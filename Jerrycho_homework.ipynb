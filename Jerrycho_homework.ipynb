{
 "cells": [
  {
   "cell_type": "code",
   "execution_count": 1,
   "source": [
    "import pandas as pd\r\n",
    "import numpy as np\r\n",
    "import statsmodels.stats.proportion as sp\r\n",
    "import matplotlib.pyplot as plt\r\n",
    "import seaborn as sns\r\n",
    "import scipy.stats as st"
   ],
   "outputs": [],
   "metadata": {}
  },
  {
   "cell_type": "code",
   "execution_count": 5,
   "source": [
    "df = pd.read_csv('train.csv')\r\n",
    "df.head()"
   ],
   "outputs": [
    {
     "output_type": "execute_result",
     "data": {
      "text/html": [
       "<div>\n",
       "<style scoped>\n",
       "    .dataframe tbody tr th:only-of-type {\n",
       "        vertical-align: middle;\n",
       "    }\n",
       "\n",
       "    .dataframe tbody tr th {\n",
       "        vertical-align: top;\n",
       "    }\n",
       "\n",
       "    .dataframe thead th {\n",
       "        text-align: right;\n",
       "    }\n",
       "</style>\n",
       "<table border=\"1\" class=\"dataframe\">\n",
       "  <thead>\n",
       "    <tr style=\"text-align: right;\">\n",
       "      <th></th>\n",
       "      <th>Id</th>\n",
       "      <th>MSSubClass</th>\n",
       "      <th>MSZoning</th>\n",
       "      <th>LotFrontage</th>\n",
       "      <th>LotArea</th>\n",
       "      <th>Street</th>\n",
       "      <th>Alley</th>\n",
       "      <th>LotShape</th>\n",
       "      <th>LandContour</th>\n",
       "      <th>Utilities</th>\n",
       "      <th>...</th>\n",
       "      <th>PoolArea</th>\n",
       "      <th>PoolQC</th>\n",
       "      <th>Fence</th>\n",
       "      <th>MiscFeature</th>\n",
       "      <th>MiscVal</th>\n",
       "      <th>MoSold</th>\n",
       "      <th>YrSold</th>\n",
       "      <th>SaleType</th>\n",
       "      <th>SaleCondition</th>\n",
       "      <th>SalePrice</th>\n",
       "    </tr>\n",
       "  </thead>\n",
       "  <tbody>\n",
       "    <tr>\n",
       "      <td>0</td>\n",
       "      <td>1</td>\n",
       "      <td>60</td>\n",
       "      <td>RL</td>\n",
       "      <td>65.0</td>\n",
       "      <td>8450</td>\n",
       "      <td>Pave</td>\n",
       "      <td>NaN</td>\n",
       "      <td>Reg</td>\n",
       "      <td>Lvl</td>\n",
       "      <td>AllPub</td>\n",
       "      <td>...</td>\n",
       "      <td>0</td>\n",
       "      <td>NaN</td>\n",
       "      <td>NaN</td>\n",
       "      <td>NaN</td>\n",
       "      <td>0</td>\n",
       "      <td>2</td>\n",
       "      <td>2008</td>\n",
       "      <td>WD</td>\n",
       "      <td>Normal</td>\n",
       "      <td>208500</td>\n",
       "    </tr>\n",
       "    <tr>\n",
       "      <td>1</td>\n",
       "      <td>2</td>\n",
       "      <td>20</td>\n",
       "      <td>RL</td>\n",
       "      <td>80.0</td>\n",
       "      <td>9600</td>\n",
       "      <td>Pave</td>\n",
       "      <td>NaN</td>\n",
       "      <td>Reg</td>\n",
       "      <td>Lvl</td>\n",
       "      <td>AllPub</td>\n",
       "      <td>...</td>\n",
       "      <td>0</td>\n",
       "      <td>NaN</td>\n",
       "      <td>NaN</td>\n",
       "      <td>NaN</td>\n",
       "      <td>0</td>\n",
       "      <td>5</td>\n",
       "      <td>2007</td>\n",
       "      <td>WD</td>\n",
       "      <td>Normal</td>\n",
       "      <td>181500</td>\n",
       "    </tr>\n",
       "    <tr>\n",
       "      <td>2</td>\n",
       "      <td>3</td>\n",
       "      <td>60</td>\n",
       "      <td>RL</td>\n",
       "      <td>68.0</td>\n",
       "      <td>11250</td>\n",
       "      <td>Pave</td>\n",
       "      <td>NaN</td>\n",
       "      <td>IR1</td>\n",
       "      <td>Lvl</td>\n",
       "      <td>AllPub</td>\n",
       "      <td>...</td>\n",
       "      <td>0</td>\n",
       "      <td>NaN</td>\n",
       "      <td>NaN</td>\n",
       "      <td>NaN</td>\n",
       "      <td>0</td>\n",
       "      <td>9</td>\n",
       "      <td>2008</td>\n",
       "      <td>WD</td>\n",
       "      <td>Normal</td>\n",
       "      <td>223500</td>\n",
       "    </tr>\n",
       "    <tr>\n",
       "      <td>3</td>\n",
       "      <td>4</td>\n",
       "      <td>70</td>\n",
       "      <td>RL</td>\n",
       "      <td>60.0</td>\n",
       "      <td>9550</td>\n",
       "      <td>Pave</td>\n",
       "      <td>NaN</td>\n",
       "      <td>IR1</td>\n",
       "      <td>Lvl</td>\n",
       "      <td>AllPub</td>\n",
       "      <td>...</td>\n",
       "      <td>0</td>\n",
       "      <td>NaN</td>\n",
       "      <td>NaN</td>\n",
       "      <td>NaN</td>\n",
       "      <td>0</td>\n",
       "      <td>2</td>\n",
       "      <td>2006</td>\n",
       "      <td>WD</td>\n",
       "      <td>Abnorml</td>\n",
       "      <td>140000</td>\n",
       "    </tr>\n",
       "    <tr>\n",
       "      <td>4</td>\n",
       "      <td>5</td>\n",
       "      <td>60</td>\n",
       "      <td>RL</td>\n",
       "      <td>84.0</td>\n",
       "      <td>14260</td>\n",
       "      <td>Pave</td>\n",
       "      <td>NaN</td>\n",
       "      <td>IR1</td>\n",
       "      <td>Lvl</td>\n",
       "      <td>AllPub</td>\n",
       "      <td>...</td>\n",
       "      <td>0</td>\n",
       "      <td>NaN</td>\n",
       "      <td>NaN</td>\n",
       "      <td>NaN</td>\n",
       "      <td>0</td>\n",
       "      <td>12</td>\n",
       "      <td>2008</td>\n",
       "      <td>WD</td>\n",
       "      <td>Normal</td>\n",
       "      <td>250000</td>\n",
       "    </tr>\n",
       "  </tbody>\n",
       "</table>\n",
       "<p>5 rows × 81 columns</p>\n",
       "</div>"
      ],
      "text/plain": [
       "   Id  MSSubClass MSZoning  LotFrontage  LotArea Street Alley LotShape  \\\n",
       "0   1          60       RL         65.0     8450   Pave   NaN      Reg   \n",
       "1   2          20       RL         80.0     9600   Pave   NaN      Reg   \n",
       "2   3          60       RL         68.0    11250   Pave   NaN      IR1   \n",
       "3   4          70       RL         60.0     9550   Pave   NaN      IR1   \n",
       "4   5          60       RL         84.0    14260   Pave   NaN      IR1   \n",
       "\n",
       "  LandContour Utilities  ... PoolArea PoolQC Fence MiscFeature MiscVal MoSold  \\\n",
       "0         Lvl    AllPub  ...        0    NaN   NaN         NaN       0      2   \n",
       "1         Lvl    AllPub  ...        0    NaN   NaN         NaN       0      5   \n",
       "2         Lvl    AllPub  ...        0    NaN   NaN         NaN       0      9   \n",
       "3         Lvl    AllPub  ...        0    NaN   NaN         NaN       0      2   \n",
       "4         Lvl    AllPub  ...        0    NaN   NaN         NaN       0     12   \n",
       "\n",
       "  YrSold  SaleType  SaleCondition  SalePrice  \n",
       "0   2008        WD         Normal     208500  \n",
       "1   2007        WD         Normal     181500  \n",
       "2   2008        WD         Normal     223500  \n",
       "3   2006        WD        Abnorml     140000  \n",
       "4   2008        WD         Normal     250000  \n",
       "\n",
       "[5 rows x 81 columns]"
      ]
     },
     "metadata": {},
     "execution_count": 5
    }
   ],
   "metadata": {}
  },
  {
   "cell_type": "markdown",
   "source": [
    "## Soal Pertama"
   ],
   "metadata": {}
  },
  {
   "cell_type": "markdown",
   "source": [
    "Tunjukkan statistika deskriptif untuk variabel harga rumah (Column \r\n",
    "Name : `SalePrice`)!"
   ],
   "metadata": {}
  },
  {
   "cell_type": "code",
   "execution_count": 6,
   "source": [
    "saleprice = df['SalePrice']\r\n",
    "saleprice.mean() # mencari nilai mean pada data"
   ],
   "outputs": [
    {
     "output_type": "execute_result",
     "data": {
      "text/plain": [
       "180921.19589041095"
      ]
     },
     "metadata": {},
     "execution_count": 6
    }
   ],
   "metadata": {}
  },
  {
   "cell_type": "code",
   "execution_count": 7,
   "source": [
    "saleprice.median() # mencari nilai median pada data"
   ],
   "outputs": [
    {
     "output_type": "execute_result",
     "data": {
      "text/plain": [
       "163000.0"
      ]
     },
     "metadata": {},
     "execution_count": 7
    }
   ],
   "metadata": {}
  },
  {
   "cell_type": "code",
   "execution_count": 8,
   "source": [
    "saleprice.min() # nilai minimal dari kolom sale price"
   ],
   "outputs": [
    {
     "output_type": "execute_result",
     "data": {
      "text/plain": [
       "34900"
      ]
     },
     "metadata": {},
     "execution_count": 8
    }
   ],
   "metadata": {}
  },
  {
   "cell_type": "code",
   "execution_count": 9,
   "source": [
    "saleprice.max() # nilai maksimal dari kolom sale price"
   ],
   "outputs": [
    {
     "output_type": "execute_result",
     "data": {
      "text/plain": [
       "755000"
      ]
     },
     "metadata": {},
     "execution_count": 9
    }
   ],
   "metadata": {}
  },
  {
   "cell_type": "code",
   "execution_count": 10,
   "source": [
    "saleprice.mode() # mencari nilai mode atau nilai terbanyak pada data"
   ],
   "outputs": [
    {
     "output_type": "execute_result",
     "data": {
      "text/plain": [
       "0    140000\n",
       "dtype: int64"
      ]
     },
     "metadata": {},
     "execution_count": 10
    }
   ],
   "metadata": {}
  },
  {
   "cell_type": "code",
   "execution_count": 11,
   "source": [
    "print('Range:',df['SalePrice'].max()-df['SalePrice'].min()) # perhitungan range"
   ],
   "outputs": [
    {
     "output_type": "stream",
     "name": "stdout",
     "text": [
      "Range: 720100\n"
     ]
    }
   ],
   "metadata": {}
  },
  {
   "cell_type": "code",
   "execution_count": 12,
   "source": [
    "df['SalePrice'].var()"
   ],
   "outputs": [
    {
     "output_type": "execute_result",
     "data": {
      "text/plain": [
       "6311111264.297451"
      ]
     },
     "metadata": {},
     "execution_count": 12
    }
   ],
   "metadata": {}
  },
  {
   "cell_type": "code",
   "execution_count": 13,
   "source": [
    "print('Inter Quartile Range (IQR):',df['SalePrice'].quantile(0.75)-df['SalePrice'].quantile(0.25))"
   ],
   "outputs": [
    {
     "output_type": "stream",
     "name": "stdout",
     "text": [
      "Inter Quartile Range (IQR): 84025.0\n"
     ]
    }
   ],
   "metadata": {}
  },
  {
   "cell_type": "code",
   "execution_count": 14,
   "source": [
    "df['SalePrice'].quantile(0.75)"
   ],
   "outputs": [
    {
     "output_type": "execute_result",
     "data": {
      "text/plain": [
       "214000.0"
      ]
     },
     "metadata": {},
     "execution_count": 14
    }
   ],
   "metadata": {}
  },
  {
   "cell_type": "code",
   "execution_count": 15,
   "source": [
    "df['SalePrice'].quantile(0.25)"
   ],
   "outputs": [
    {
     "output_type": "execute_result",
     "data": {
      "text/plain": [
       "129975.0"
      ]
     },
     "metadata": {},
     "execution_count": 15
    }
   ],
   "metadata": {}
  },
  {
   "cell_type": "code",
   "execution_count": 19,
   "source": [
    "plt.figure(figsize = (7,5))\r\n",
    "sns.boxplot(x='SalePrice',data=df)\r\n",
    "plt.show()"
   ],
   "outputs": [
    {
     "output_type": "display_data",
     "data": {
      "image/png": "[encoded data removed]",
      "text/plain": [
       "<Figure size 504x360 with 1 Axes>"
      ]
     },
     "metadata": {
      "needs_background": "light"
     }
    }
   ],
   "metadata": {}
  },
  {
   "cell_type": "markdown",
   "source": [
    "<b>Inter Quartile Range</b> yang memiliki nilai <b>84025.0</b> digunakan untuk mengetahui persebaran data mulai dari 25% sampai 75%, Artinya dari nilai IQR dapat kita ketahui rentang 50% data harga rumah yang paling umum ditemukan, atau kasus `SalePrice` rumah di Ames, Iowa, Amerika Serikat, rentang harga dimulai dari <b>129.975</b> Dollar AS sampai <b>214.000</b>"
   ],
   "metadata": {}
  },
  {
   "cell_type": "markdown",
   "source": [
    "<b>nilai mean</b> atau rata-rata dari `SalePrice` adalah <b>180.921,19</b> Dollar AS, jika goalsnya adalah ingin memiliki harga yang lebih bersaing dari kebanyakan properti dengan asumsi fasilitas rumah dan tempat diabaikan, sebaiknya menggunakan harga jual dibawah <b>nilai median</b> yaitu sebesar <b>163.000,00</b> dollar AS. Hal ini dikarenakan grafik persebaran berbentuk <b> Positivly skewed</b> tidak disarankan menggunakan nilai mean karena data <b>not robust</b>.\r\n",
    "\r\n",
    "<b>nilai modus</b> atau mode mewakili harga pasaran rumah yaitu sekitar <b>140.000</b> dollar AS dengan asumsi fasilitas dan tempat diabaikan."
   ],
   "metadata": {}
  },
  {
   "cell_type": "markdown",
   "source": [
    "## Soal Kedua"
   ],
   "metadata": {}
  },
  {
   "cell_type": "markdown",
   "source": [
    "Tunjukkan statistika deskriptif untuk variabel harga rumah (Column Name : SalePrice) setiap tahunnya (Column Name : YrSold)!\r\n"
   ],
   "metadata": {}
  },
  {
   "cell_type": "code",
   "execution_count": 23,
   "source": [
    "# Selisih Harga Rumah\r\n",
    "range_data = df['SalePrice'].max()-df['SalePrice'].min()\r\n",
    "range_data\r\n"
   ],
   "outputs": [
    {
     "output_type": "execute_result",
     "data": {
      "text/plain": [
       "720100"
      ]
     },
     "metadata": {},
     "execution_count": 23
    }
   ],
   "metadata": {}
  },
  {
   "cell_type": "code",
   "execution_count": 26,
   "source": [
    "# Data Interkualtil\r\n",
    "df_interquartile=df['SalePrice'].quantile(0.75)-df['SalePrice'].quantile(0.25)\r\n",
    "df_interquartile"
   ],
   "outputs": [
    {
     "output_type": "execute_result",
     "data": {
      "text/plain": [
       "84025.0"
      ]
     },
     "metadata": {},
     "execution_count": 26
    }
   ],
   "metadata": {}
  },
  {
   "cell_type": "code",
   "execution_count": 28,
   "source": [
    "df_sumary=df.groupby(['YrSold']).agg({'SalePrice':['max','min','count','mean','median','sum','std',pd.Series.mode]})\r\n",
    "df_sumary"
   ],
   "outputs": [
    {
     "output_type": "execute_result",
     "data": {
      "text/html": [
       "<div>\n",
       "<style scoped>\n",
       "    .dataframe tbody tr th:only-of-type {\n",
       "        vertical-align: middle;\n",
       "    }\n",
       "\n",
       "    .dataframe tbody tr th {\n",
       "        vertical-align: top;\n",
       "    }\n",
       "\n",
       "    .dataframe thead tr th {\n",
       "        text-align: left;\n",
       "    }\n",
       "\n",
       "    .dataframe thead tr:last-of-type th {\n",
       "        text-align: right;\n",
       "    }\n",
       "</style>\n",
       "<table border=\"1\" class=\"dataframe\">\n",
       "  <thead>\n",
       "    <tr>\n",
       "      <th></th>\n",
       "      <th colspan=\"8\" halign=\"left\">SalePrice</th>\n",
       "    </tr>\n",
       "    <tr>\n",
       "      <th></th>\n",
       "      <th>max</th>\n",
       "      <th>min</th>\n",
       "      <th>count</th>\n",
       "      <th>mean</th>\n",
       "      <th>median</th>\n",
       "      <th>sum</th>\n",
       "      <th>std</th>\n",
       "      <th>mode</th>\n",
       "    </tr>\n",
       "    <tr>\n",
       "      <th>YrSold</th>\n",
       "      <th></th>\n",
       "      <th></th>\n",
       "      <th></th>\n",
       "      <th></th>\n",
       "      <th></th>\n",
       "      <th></th>\n",
       "      <th></th>\n",
       "      <th></th>\n",
       "    </tr>\n",
       "  </thead>\n",
       "  <tbody>\n",
       "    <tr>\n",
       "      <td>2006</td>\n",
       "      <td>625000</td>\n",
       "      <td>35311</td>\n",
       "      <td>314</td>\n",
       "      <td>182549.458599</td>\n",
       "      <td>163995</td>\n",
       "      <td>57320530</td>\n",
       "      <td>79426.838855</td>\n",
       "      <td>140000</td>\n",
       "    </tr>\n",
       "    <tr>\n",
       "      <td>2007</td>\n",
       "      <td>755000</td>\n",
       "      <td>39300</td>\n",
       "      <td>329</td>\n",
       "      <td>186063.151976</td>\n",
       "      <td>167000</td>\n",
       "      <td>61214777</td>\n",
       "      <td>85768.171410</td>\n",
       "      <td>[129000, 144000]</td>\n",
       "    </tr>\n",
       "    <tr>\n",
       "      <td>2008</td>\n",
       "      <td>446261</td>\n",
       "      <td>40000</td>\n",
       "      <td>304</td>\n",
       "      <td>177360.838816</td>\n",
       "      <td>164000</td>\n",
       "      <td>53917695</td>\n",
       "      <td>69735.610685</td>\n",
       "      <td>140000</td>\n",
       "    </tr>\n",
       "    <tr>\n",
       "      <td>2009</td>\n",
       "      <td>582933</td>\n",
       "      <td>34900</td>\n",
       "      <td>338</td>\n",
       "      <td>179432.103550</td>\n",
       "      <td>162000</td>\n",
       "      <td>60648051</td>\n",
       "      <td>80879.237311</td>\n",
       "      <td>110000</td>\n",
       "    </tr>\n",
       "    <tr>\n",
       "      <td>2010</td>\n",
       "      <td>611657</td>\n",
       "      <td>55000</td>\n",
       "      <td>175</td>\n",
       "      <td>177393.674286</td>\n",
       "      <td>155000</td>\n",
       "      <td>31043893</td>\n",
       "      <td>80451.280085</td>\n",
       "      <td>[128000, 140000, 143000, 155000, 190000]</td>\n",
       "    </tr>\n",
       "  </tbody>\n",
       "</table>\n",
       "</div>"
      ],
      "text/plain": [
       "       SalePrice                                                              \\\n",
       "             max    min count           mean  median       sum           std   \n",
       "YrSold                                                                         \n",
       "2006      625000  35311   314  182549.458599  163995  57320530  79426.838855   \n",
       "2007      755000  39300   329  186063.151976  167000  61214777  85768.171410   \n",
       "2008      446261  40000   304  177360.838816  164000  53917695  69735.610685   \n",
       "2009      582933  34900   338  179432.103550  162000  60648051  80879.237311   \n",
       "2010      611657  55000   175  177393.674286  155000  31043893  80451.280085   \n",
       "\n",
       "                                                  \n",
       "                                            mode  \n",
       "YrSold                                            \n",
       "2006                                      140000  \n",
       "2007                            [129000, 144000]  \n",
       "2008                                      140000  \n",
       "2009                                      110000  \n",
       "2010    [128000, 140000, 143000, 155000, 190000]  "
      ]
     },
     "metadata": {},
     "execution_count": 28
    }
   ],
   "metadata": {}
  },
  {
   "cell_type": "markdown",
   "source": [
    "Dari data di atas bisa di tahun 2007 adalah tahun paling baik dan 2010 adalah tahun terburuk.<br>\r\n",
    "tidak terlalu significan perbedaan dari tahun 2006 hingga 2009.<br> Terlihat bahwa penjualan dengan nominal value terbesar terjadi di tahun 2007, dengan total di kisaran 61 juta.<br>Harga jual rumah paling tinggi berada di tahun 2007 yaitu senilai 755,000.<br> Sementara itu jumlah unit yang terjual paling tinggi berada di tahun 2009 sebesar 338 unit.<br>Jika melihat data tersebut secara keseluruhan maka trend dari penjualan rumah mengalami penurunan paling signifikan di tahun 2010 dikarenakan jumlah unit yang dijual turun hingga hampir setengah.<br> Dalam hal sebaran kita melihat bahwa sale price di tahun 2008 yang paling merata (karena STD yang paling rendah) dan tahun 2007 yang paling beragam "
   ],
   "metadata": {}
  },
  {
   "cell_type": "markdown",
   "source": [
    "## Soal Ketiga"
   ],
   "metadata": {}
  },
  {
   "cell_type": "markdown",
   "source": [
    "Bagaimana distribusi harga rumah tersebut. Gunakan histogram plot tidak \r\n",
    "terbatas hanya histogram saja. Jelaskan sebaiknya untuk analisa apakah lebih \r\n",
    "baik menggunakan mean atau menggunakan median? Beserta alasannya \r\n",
    "(Column Name : SalePrice)"
   ],
   "metadata": {}
  },
  {
   "cell_type": "code",
   "execution_count": 29,
   "source": [
    "sns.set_style(\"dark\")\r\n",
    "sns.kdeplot(df['SalePrice'], shade=True, color=\"r\")\r\n",
    "# sns.kdeplot(df['OverallQual'], shade=True, color=\"b\")"
   ],
   "outputs": [
    {
     "output_type": "execute_result",
     "data": {
      "text/plain": [
       "<matplotlib.axes._subplots.AxesSubplot at 0x27176183a88>"
      ]
     },
     "metadata": {},
     "execution_count": 29
    },
    {
     "output_type": "display_data",
     "data": {
      "image/png": "[encoded data removed]",
      "text/plain": [
       "<Figure size 432x288 with 1 Axes>"
      ]
     },
     "metadata": {}
    }
   ],
   "metadata": {}
  },
  {
   "cell_type": "markdown",
   "source": [
    "Grafik persebaran berbentuk <b> Positivly skewed</b> dengan outlier berada di sebelah kanan dari nilai <b> median </b>"
   ],
   "metadata": {}
  },
  {
   "cell_type": "code",
   "execution_count": 30,
   "source": [
    "plt.figure(figsize = (7,5))\r\n",
    "sns.boxplot(x='SalePrice',data=df)\r\n",
    "plt.show()"
   ],
   "outputs": [
    {
     "output_type": "display_data",
     "data": {
      "image/png": "[encoded data removed]",
      "text/plain": [
       "<Figure size 504x360 with 1 Axes>"
      ]
     },
     "metadata": {}
    }
   ],
   "metadata": {}
  },
  {
   "cell_type": "markdown",
   "source": [
    "Dari box plot dapat dilihat banyaknya outliers yang berada pada sebelah kanan dari nilai median"
   ],
   "metadata": {}
  },
  {
   "cell_type": "code",
   "execution_count": 48,
   "source": [
    "data_2006 = df[df['YrSold'] == 2006]\r\n",
    "data_2007 = df[df['YrSold'] == 2007]\r\n",
    "data_2008 = df[df['YrSold'] == 2008]\r\n",
    "data_2009 = df[df['YrSold'] == 2009]\r\n",
    "data_2010 = df[df['YrSold'] == 2010]\r\n",
    "\r\n",
    "plt.figure(figsize = (10,7))\r\n",
    "sns.distplot(data_2006['SalePrice'],label='2006')\r\n",
    "sns.distplot(data_2007['SalePrice'],label='2007')\r\n",
    "sns.distplot(data_2008['SalePrice'],label='2008')\r\n",
    "sns.distplot(data_2009['SalePrice'],label='2009')\r\n",
    "sns.distplot(data_2010['SalePrice'],label='2010')\r\n",
    "plt.show()"
   ],
   "outputs": [
    {
     "output_type": "display_data",
     "data": {
      "image/png": "[encoded data removed]",
      "text/plain": [
       "<Figure size 720x504 with 1 Axes>"
      ]
     },
     "metadata": {}
    }
   ],
   "metadata": {}
  },
  {
   "cell_type": "markdown",
   "source": [
    "Terlihat bahwa secara keseluruhan kebanyakan rumah memiliki harga jual di antara 0 hingga 200,000. Data ini memiliki kecenderungan positively skewed di mana mean>median>mode. Oleh karena itu baiknya menggunakan median untuk pengukuran dikarenakan data ini tidak ini tdk distribusi secara normal (terdapat beberapa outlier). "
   ],
   "metadata": {}
  },
  {
   "cell_type": "markdown",
   "source": [
    "## Soal Keempat"
   ],
   "metadata": {}
  },
  {
   "cell_type": "markdown",
   "source": [
    "Membandingkan 2010 dan 2006\r\n",
    "\r\n",
    "H0 : rata-rata harga 2010 sama dengan atau kurang dari harga di 2006\r\n",
    "H1 : rata-rata harga 2010 lebih dari harga di 2006\r\n"
   ],
   "metadata": {}
  },
  {
   "cell_type": "code",
   "execution_count": 49,
   "source": [
    "df_mean=df.groupby(['YrSold']).mean()\r\n",
    "df_mean"
   ],
   "outputs": [
    {
     "output_type": "execute_result",
     "data": {
      "text/html": [
       "<div>\n",
       "<style scoped>\n",
       "    .dataframe tbody tr th:only-of-type {\n",
       "        vertical-align: middle;\n",
       "    }\n",
       "\n",
       "    .dataframe tbody tr th {\n",
       "        vertical-align: top;\n",
       "    }\n",
       "\n",
       "    .dataframe thead th {\n",
       "        text-align: right;\n",
       "    }\n",
       "</style>\n",
       "<table border=\"1\" class=\"dataframe\">\n",
       "  <thead>\n",
       "    <tr style=\"text-align: right;\">\n",
       "      <th></th>\n",
       "      <th>Id</th>\n",
       "      <th>MSSubClass</th>\n",
       "      <th>LotFrontage</th>\n",
       "      <th>LotArea</th>\n",
       "      <th>OverallQual</th>\n",
       "      <th>OverallCond</th>\n",
       "      <th>YearBuilt</th>\n",
       "      <th>YearRemodAdd</th>\n",
       "      <th>MasVnrArea</th>\n",
       "      <th>BsmtFinSF1</th>\n",
       "      <th>...</th>\n",
       "      <th>GarageArea</th>\n",
       "      <th>WoodDeckSF</th>\n",
       "      <th>OpenPorchSF</th>\n",
       "      <th>EnclosedPorch</th>\n",
       "      <th>3SsnPorch</th>\n",
       "      <th>ScreenPorch</th>\n",
       "      <th>PoolArea</th>\n",
       "      <th>MiscVal</th>\n",
       "      <th>MoSold</th>\n",
       "      <th>SalePrice</th>\n",
       "    </tr>\n",
       "    <tr>\n",
       "      <th>YrSold</th>\n",
       "      <th></th>\n",
       "      <th></th>\n",
       "      <th></th>\n",
       "      <th></th>\n",
       "      <th></th>\n",
       "      <th></th>\n",
       "      <th></th>\n",
       "      <th></th>\n",
       "      <th></th>\n",
       "      <th></th>\n",
       "      <th></th>\n",
       "      <th></th>\n",
       "      <th></th>\n",
       "      <th></th>\n",
       "      <th></th>\n",
       "      <th></th>\n",
       "      <th></th>\n",
       "      <th></th>\n",
       "      <th></th>\n",
       "      <th></th>\n",
       "      <th></th>\n",
       "    </tr>\n",
       "  </thead>\n",
       "  <tbody>\n",
       "    <tr>\n",
       "      <td>2006</td>\n",
       "      <td>740.191083</td>\n",
       "      <td>59.888535</td>\n",
       "      <td>69.305660</td>\n",
       "      <td>10489.458599</td>\n",
       "      <td>6.130573</td>\n",
       "      <td>5.420382</td>\n",
       "      <td>1972.117834</td>\n",
       "      <td>1982.585987</td>\n",
       "      <td>93.869010</td>\n",
       "      <td>444.754777</td>\n",
       "      <td>...</td>\n",
       "      <td>478.487261</td>\n",
       "      <td>98.140127</td>\n",
       "      <td>50.394904</td>\n",
       "      <td>22.726115</td>\n",
       "      <td>2.519108</td>\n",
       "      <td>12.799363</td>\n",
       "      <td>7.697452</td>\n",
       "      <td>16.305732</td>\n",
       "      <td>6.487261</td>\n",
       "      <td>182549.458599</td>\n",
       "    </tr>\n",
       "    <tr>\n",
       "      <td>2007</td>\n",
       "      <td>710.753799</td>\n",
       "      <td>54.316109</td>\n",
       "      <td>71.349624</td>\n",
       "      <td>10863.686930</td>\n",
       "      <td>6.133739</td>\n",
       "      <td>5.583587</td>\n",
       "      <td>1972.279635</td>\n",
       "      <td>1986.018237</td>\n",
       "      <td>117.428135</td>\n",
       "      <td>411.656535</td>\n",
       "      <td>...</td>\n",
       "      <td>480.881459</td>\n",
       "      <td>82.814590</td>\n",
       "      <td>48.996960</td>\n",
       "      <td>23.826748</td>\n",
       "      <td>1.580547</td>\n",
       "      <td>15.182371</td>\n",
       "      <td>1.686930</td>\n",
       "      <td>93.708207</td>\n",
       "      <td>6.610942</td>\n",
       "      <td>186063.151976</td>\n",
       "    </tr>\n",
       "    <tr>\n",
       "      <td>2008</td>\n",
       "      <td>730.213816</td>\n",
       "      <td>59.029605</td>\n",
       "      <td>69.397638</td>\n",
       "      <td>10587.687500</td>\n",
       "      <td>6.111842</td>\n",
       "      <td>5.759868</td>\n",
       "      <td>1968.907895</td>\n",
       "      <td>1984.796053</td>\n",
       "      <td>107.156146</td>\n",
       "      <td>472.417763</td>\n",
       "      <td>...</td>\n",
       "      <td>464.197368</td>\n",
       "      <td>94.223684</td>\n",
       "      <td>48.641447</td>\n",
       "      <td>21.154605</td>\n",
       "      <td>5.937500</td>\n",
       "      <td>17.108553</td>\n",
       "      <td>3.473684</td>\n",
       "      <td>23.059211</td>\n",
       "      <td>6.546053</td>\n",
       "      <td>177360.838816</td>\n",
       "    </tr>\n",
       "    <tr>\n",
       "      <td>2009</td>\n",
       "      <td>750.943787</td>\n",
       "      <td>54.674556</td>\n",
       "      <td>69.296703</td>\n",
       "      <td>10294.248521</td>\n",
       "      <td>6.076923</td>\n",
       "      <td>5.514793</td>\n",
       "      <td>1971.757396</td>\n",
       "      <td>1985.866864</td>\n",
       "      <td>102.445104</td>\n",
       "      <td>443.579882</td>\n",
       "      <td>...</td>\n",
       "      <td>478.798817</td>\n",
       "      <td>97.180473</td>\n",
       "      <td>44.281065</td>\n",
       "      <td>18.529586</td>\n",
       "      <td>4.378698</td>\n",
       "      <td>16.008876</td>\n",
       "      <td>0.000000</td>\n",
       "      <td>20.650888</td>\n",
       "      <td>6.718935</td>\n",
       "      <td>179432.103550</td>\n",
       "    </tr>\n",
       "    <tr>\n",
       "      <td>2010</td>\n",
       "      <td>711.245714</td>\n",
       "      <td>56.971429</td>\n",
       "      <td>71.608392</td>\n",
       "      <td>10220.645714</td>\n",
       "      <td>6.000000</td>\n",
       "      <td>5.634286</td>\n",
       "      <td>1970.994286</td>\n",
       "      <td>1984.977143</td>\n",
       "      <td>91.913793</td>\n",
       "      <td>451.891429</td>\n",
       "      <td>...</td>\n",
       "      <td>452.262857</td>\n",
       "      <td>103.108571</td>\n",
       "      <td>36.720000</td>\n",
       "      <td>25.051429</td>\n",
       "      <td>2.182857</td>\n",
       "      <td>13.502857</td>\n",
       "      <td>0.000000</td>\n",
       "      <td>77.451429</td>\n",
       "      <td>4.325714</td>\n",
       "      <td>177393.674286</td>\n",
       "    </tr>\n",
       "  </tbody>\n",
       "</table>\n",
       "<p>5 rows × 37 columns</p>\n",
       "</div>"
      ],
      "text/plain": [
       "                Id  MSSubClass  LotFrontage       LotArea  OverallQual  \\\n",
       "YrSold                                                                   \n",
       "2006    740.191083   59.888535    69.305660  10489.458599     6.130573   \n",
       "2007    710.753799   54.316109    71.349624  10863.686930     6.133739   \n",
       "2008    730.213816   59.029605    69.397638  10587.687500     6.111842   \n",
       "2009    750.943787   54.674556    69.296703  10294.248521     6.076923   \n",
       "2010    711.245714   56.971429    71.608392  10220.645714     6.000000   \n",
       "\n",
       "        OverallCond    YearBuilt  YearRemodAdd  MasVnrArea  BsmtFinSF1  ...  \\\n",
       "YrSold                                                                  ...   \n",
       "2006       5.420382  1972.117834   1982.585987   93.869010  444.754777  ...   \n",
       "2007       5.583587  1972.279635   1986.018237  117.428135  411.656535  ...   \n",
       "2008       5.759868  1968.907895   1984.796053  107.156146  472.417763  ...   \n",
       "2009       5.514793  1971.757396   1985.866864  102.445104  443.579882  ...   \n",
       "2010       5.634286  1970.994286   1984.977143   91.913793  451.891429  ...   \n",
       "\n",
       "        GarageArea  WoodDeckSF  OpenPorchSF  EnclosedPorch  3SsnPorch  \\\n",
       "YrSold                                                                  \n",
       "2006    478.487261   98.140127    50.394904      22.726115   2.519108   \n",
       "2007    480.881459   82.814590    48.996960      23.826748   1.580547   \n",
       "2008    464.197368   94.223684    48.641447      21.154605   5.937500   \n",
       "2009    478.798817   97.180473    44.281065      18.529586   4.378698   \n",
       "2010    452.262857  103.108571    36.720000      25.051429   2.182857   \n",
       "\n",
       "        ScreenPorch  PoolArea    MiscVal    MoSold      SalePrice  \n",
       "YrSold                                                             \n",
       "2006      12.799363  7.697452  16.305732  6.487261  182549.458599  \n",
       "2007      15.182371  1.686930  93.708207  6.610942  186063.151976  \n",
       "2008      17.108553  3.473684  23.059211  6.546053  177360.838816  \n",
       "2009      16.008876  0.000000  20.650888  6.718935  179432.103550  \n",
       "2010      13.502857  0.000000  77.451429  4.325714  177393.674286  \n",
       "\n",
       "[5 rows x 37 columns]"
      ]
     },
     "metadata": {},
     "execution_count": 49
    }
   ],
   "metadata": {}
  },
  {
   "cell_type": "code",
   "execution_count": 50,
   "source": [
    "import scipy.stats as st"
   ],
   "outputs": [],
   "metadata": {}
  },
  {
   "cell_type": "code",
   "execution_count": 54,
   "source": [
    "df_mean=df[['SalePrice','YrSold']]\r\n",
    "saleprice_2006 = df_mean.loc[df_mean['YrSold']==2006]\r\n",
    "saleprice_2010 = df_mean.loc[df_mean['YrSold']==2010]"
   ],
   "outputs": [],
   "metadata": {}
  },
  {
   "cell_type": "code",
   "execution_count": 55,
   "source": [
    "ttest = st.ttest_ind(a = saleprice_2006['SalePrice'], b=saleprice_2010['SalePrice'])\r\n",
    "p_value = ttest.pvalue\r\n",
    "print('P-Value :',p_value)\r\n",
    "if p_value >= 0.05:\r\n",
    "    print('Tidak cukup bukti menyatakan bahwa rata-rata harga 2010 lebih dari harga 2006')\r\n",
    "else:\r\n",
    "    print('Cukup bukti menyatakan (Tolak H0) bahwa rata-rata harga 2010 lebih dari harga 2006')"
   ],
   "outputs": [
    {
     "output_type": "stream",
     "name": "stdout",
     "text": [
      "P-Value : 0.4937082636902659\n",
      "Tidak cukup bukti menyatakan bahwa rata-rata harga 2010 lebih dari harga 2006\n"
     ]
    }
   ],
   "metadata": {}
  },
  {
   "cell_type": "markdown",
   "source": [
    "## Soal Advanced"
   ],
   "metadata": {}
  },
  {
   "cell_type": "markdown",
   "source": [
    "Kasus yang akan digunakan adalah membuka akun deposit untuk nasabah \r\n",
    "bank. Pada kesempatan kali ini data scientist diminta tolong untuk menganalisa \r\n",
    "hasil ab-testing suatu perusahaan bank. Apakah jumlah campaign mampu \r\n",
    "meningkatkan keinginan user untuk membuka akun deposit atau tidak?"
   ],
   "metadata": {}
  },
  {
   "cell_type": "code",
   "execution_count": 56,
   "source": [
    "df = pd.read_csv('bank-full.csv',sep=';')\r\n",
    "df.shape"
   ],
   "outputs": [
    {
     "output_type": "execute_result",
     "data": {
      "text/plain": [
       "(45211, 17)"
      ]
     },
     "metadata": {},
     "execution_count": 56
    }
   ],
   "metadata": {}
  },
  {
   "cell_type": "code",
   "execution_count": 57,
   "source": [
    "\r\n",
    "dfb = df.sample(1000).reset_index()\r\n",
    "dfb.head()"
   ],
   "outputs": [
    {
     "output_type": "execute_result",
     "data": {
      "text/html": [
       "<div>\n",
       "<style scoped>\n",
       "    .dataframe tbody tr th:only-of-type {\n",
       "        vertical-align: middle;\n",
       "    }\n",
       "\n",
       "    .dataframe tbody tr th {\n",
       "        vertical-align: top;\n",
       "    }\n",
       "\n",
       "    .dataframe thead th {\n",
       "        text-align: right;\n",
       "    }\n",
       "</style>\n",
       "<table border=\"1\" class=\"dataframe\">\n",
       "  <thead>\n",
       "    <tr style=\"text-align: right;\">\n",
       "      <th></th>\n",
       "      <th>index</th>\n",
       "      <th>age</th>\n",
       "      <th>job</th>\n",
       "      <th>marital</th>\n",
       "      <th>education</th>\n",
       "      <th>default</th>\n",
       "      <th>balance</th>\n",
       "      <th>housing</th>\n",
       "      <th>loan</th>\n",
       "      <th>contact</th>\n",
       "      <th>day</th>\n",
       "      <th>month</th>\n",
       "      <th>duration</th>\n",
       "      <th>campaign</th>\n",
       "      <th>pdays</th>\n",
       "      <th>previous</th>\n",
       "      <th>poutcome</th>\n",
       "      <th>y</th>\n",
       "    </tr>\n",
       "  </thead>\n",
       "  <tbody>\n",
       "    <tr>\n",
       "      <td>0</td>\n",
       "      <td>42947</td>\n",
       "      <td>35</td>\n",
       "      <td>management</td>\n",
       "      <td>married</td>\n",
       "      <td>tertiary</td>\n",
       "      <td>no</td>\n",
       "      <td>62</td>\n",
       "      <td>no</td>\n",
       "      <td>no</td>\n",
       "      <td>cellular</td>\n",
       "      <td>8</td>\n",
       "      <td>feb</td>\n",
       "      <td>469</td>\n",
       "      <td>2</td>\n",
       "      <td>185</td>\n",
       "      <td>2</td>\n",
       "      <td>failure</td>\n",
       "      <td>yes</td>\n",
       "    </tr>\n",
       "    <tr>\n",
       "      <td>1</td>\n",
       "      <td>12861</td>\n",
       "      <td>44</td>\n",
       "      <td>housemaid</td>\n",
       "      <td>married</td>\n",
       "      <td>primary</td>\n",
       "      <td>no</td>\n",
       "      <td>-227</td>\n",
       "      <td>no</td>\n",
       "      <td>yes</td>\n",
       "      <td>cellular</td>\n",
       "      <td>7</td>\n",
       "      <td>jul</td>\n",
       "      <td>153</td>\n",
       "      <td>1</td>\n",
       "      <td>-1</td>\n",
       "      <td>0</td>\n",
       "      <td>unknown</td>\n",
       "      <td>no</td>\n",
       "    </tr>\n",
       "    <tr>\n",
       "      <td>2</td>\n",
       "      <td>15433</td>\n",
       "      <td>49</td>\n",
       "      <td>management</td>\n",
       "      <td>divorced</td>\n",
       "      <td>tertiary</td>\n",
       "      <td>no</td>\n",
       "      <td>169</td>\n",
       "      <td>no</td>\n",
       "      <td>no</td>\n",
       "      <td>cellular</td>\n",
       "      <td>18</td>\n",
       "      <td>jul</td>\n",
       "      <td>141</td>\n",
       "      <td>1</td>\n",
       "      <td>-1</td>\n",
       "      <td>0</td>\n",
       "      <td>unknown</td>\n",
       "      <td>no</td>\n",
       "    </tr>\n",
       "    <tr>\n",
       "      <td>3</td>\n",
       "      <td>21036</td>\n",
       "      <td>34</td>\n",
       "      <td>management</td>\n",
       "      <td>single</td>\n",
       "      <td>tertiary</td>\n",
       "      <td>no</td>\n",
       "      <td>2205</td>\n",
       "      <td>no</td>\n",
       "      <td>no</td>\n",
       "      <td>cellular</td>\n",
       "      <td>14</td>\n",
       "      <td>aug</td>\n",
       "      <td>635</td>\n",
       "      <td>2</td>\n",
       "      <td>-1</td>\n",
       "      <td>0</td>\n",
       "      <td>unknown</td>\n",
       "      <td>no</td>\n",
       "    </tr>\n",
       "    <tr>\n",
       "      <td>4</td>\n",
       "      <td>32325</td>\n",
       "      <td>30</td>\n",
       "      <td>blue-collar</td>\n",
       "      <td>single</td>\n",
       "      <td>secondary</td>\n",
       "      <td>no</td>\n",
       "      <td>445</td>\n",
       "      <td>yes</td>\n",
       "      <td>no</td>\n",
       "      <td>cellular</td>\n",
       "      <td>16</td>\n",
       "      <td>apr</td>\n",
       "      <td>218</td>\n",
       "      <td>1</td>\n",
       "      <td>330</td>\n",
       "      <td>2</td>\n",
       "      <td>failure</td>\n",
       "      <td>no</td>\n",
       "    </tr>\n",
       "  </tbody>\n",
       "</table>\n",
       "</div>"
      ],
      "text/plain": [
       "   index  age          job   marital  education default  balance housing loan  \\\n",
       "0  42947   35   management   married   tertiary      no       62      no   no   \n",
       "1  12861   44    housemaid   married    primary      no     -227      no  yes   \n",
       "2  15433   49   management  divorced   tertiary      no      169      no   no   \n",
       "3  21036   34   management    single   tertiary      no     2205      no   no   \n",
       "4  32325   30  blue-collar    single  secondary      no      445     yes   no   \n",
       "\n",
       "    contact  day month  duration  campaign  pdays  previous poutcome    y  \n",
       "0  cellular    8   feb       469         2    185         2  failure  yes  \n",
       "1  cellular    7   jul       153         1     -1         0  unknown   no  \n",
       "2  cellular   18   jul       141         1     -1         0  unknown   no  \n",
       "3  cellular   14   aug       635         2     -1         0  unknown   no  \n",
       "4  cellular   16   apr       218         1    330         2  failure   no  "
      ]
     },
     "metadata": {},
     "execution_count": 57
    }
   ],
   "metadata": {}
  },
  {
   "cell_type": "markdown",
   "source": [
    "# Pemahaman konsep A/B Testing"
   ],
   "metadata": {}
  },
  {
   "cell_type": "markdown",
   "source": [
    "## a. Apa nama experimentnya?"
   ],
   "metadata": {}
  },
  {
   "cell_type": "markdown",
   "source": [
    "### Uji Keinginan Nasabah dalam membuka atau tidak akun berdasarkan jumlah campaign"
   ],
   "metadata": {}
  },
  {
   "cell_type": "markdown",
   "source": [
    "## b. Definisikan Hipotesis"
   ],
   "metadata": {}
  },
  {
   "cell_type": "markdown",
   "source": [
    "Melihat bagaimana nasbah berinteraksi dengan campaign, untuk menguji keinginan nasabah membuka akun<br>\r\n",
    "Apakah rata rata campaign-yes > campaign-no"
   ],
   "metadata": {}
  },
  {
   "cell_type": "markdown",
   "source": [
    "H0 : rata-rata campaign-yes **sama dengan atau kurang dari** campaign-no <br>\r\n",
    "H1 : rata-rata campaign-yes **lebih dari** campaign-no"
   ],
   "metadata": {}
  },
  {
   "cell_type": "markdown",
   "source": [
    "## c. Siapa participant-nya?"
   ],
   "metadata": {}
  },
  {
   "cell_type": "markdown",
   "source": [
    "Nasabah Bank"
   ],
   "metadata": {}
  },
  {
   "cell_type": "code",
   "execution_count": 58,
   "source": [
    "dfb.head()"
   ],
   "outputs": [
    {
     "output_type": "execute_result",
     "data": {
      "text/html": [
       "<div>\n",
       "<style scoped>\n",
       "    .dataframe tbody tr th:only-of-type {\n",
       "        vertical-align: middle;\n",
       "    }\n",
       "\n",
       "    .dataframe tbody tr th {\n",
       "        vertical-align: top;\n",
       "    }\n",
       "\n",
       "    .dataframe thead th {\n",
       "        text-align: right;\n",
       "    }\n",
       "</style>\n",
       "<table border=\"1\" class=\"dataframe\">\n",
       "  <thead>\n",
       "    <tr style=\"text-align: right;\">\n",
       "      <th></th>\n",
       "      <th>index</th>\n",
       "      <th>age</th>\n",
       "      <th>job</th>\n",
       "      <th>marital</th>\n",
       "      <th>education</th>\n",
       "      <th>default</th>\n",
       "      <th>balance</th>\n",
       "      <th>housing</th>\n",
       "      <th>loan</th>\n",
       "      <th>contact</th>\n",
       "      <th>day</th>\n",
       "      <th>month</th>\n",
       "      <th>duration</th>\n",
       "      <th>campaign</th>\n",
       "      <th>pdays</th>\n",
       "      <th>previous</th>\n",
       "      <th>poutcome</th>\n",
       "      <th>y</th>\n",
       "    </tr>\n",
       "  </thead>\n",
       "  <tbody>\n",
       "    <tr>\n",
       "      <td>0</td>\n",
       "      <td>42947</td>\n",
       "      <td>35</td>\n",
       "      <td>management</td>\n",
       "      <td>married</td>\n",
       "      <td>tertiary</td>\n",
       "      <td>no</td>\n",
       "      <td>62</td>\n",
       "      <td>no</td>\n",
       "      <td>no</td>\n",
       "      <td>cellular</td>\n",
       "      <td>8</td>\n",
       "      <td>feb</td>\n",
       "      <td>469</td>\n",
       "      <td>2</td>\n",
       "      <td>185</td>\n",
       "      <td>2</td>\n",
       "      <td>failure</td>\n",
       "      <td>yes</td>\n",
       "    </tr>\n",
       "    <tr>\n",
       "      <td>1</td>\n",
       "      <td>12861</td>\n",
       "      <td>44</td>\n",
       "      <td>housemaid</td>\n",
       "      <td>married</td>\n",
       "      <td>primary</td>\n",
       "      <td>no</td>\n",
       "      <td>-227</td>\n",
       "      <td>no</td>\n",
       "      <td>yes</td>\n",
       "      <td>cellular</td>\n",
       "      <td>7</td>\n",
       "      <td>jul</td>\n",
       "      <td>153</td>\n",
       "      <td>1</td>\n",
       "      <td>-1</td>\n",
       "      <td>0</td>\n",
       "      <td>unknown</td>\n",
       "      <td>no</td>\n",
       "    </tr>\n",
       "    <tr>\n",
       "      <td>2</td>\n",
       "      <td>15433</td>\n",
       "      <td>49</td>\n",
       "      <td>management</td>\n",
       "      <td>divorced</td>\n",
       "      <td>tertiary</td>\n",
       "      <td>no</td>\n",
       "      <td>169</td>\n",
       "      <td>no</td>\n",
       "      <td>no</td>\n",
       "      <td>cellular</td>\n",
       "      <td>18</td>\n",
       "      <td>jul</td>\n",
       "      <td>141</td>\n",
       "      <td>1</td>\n",
       "      <td>-1</td>\n",
       "      <td>0</td>\n",
       "      <td>unknown</td>\n",
       "      <td>no</td>\n",
       "    </tr>\n",
       "    <tr>\n",
       "      <td>3</td>\n",
       "      <td>21036</td>\n",
       "      <td>34</td>\n",
       "      <td>management</td>\n",
       "      <td>single</td>\n",
       "      <td>tertiary</td>\n",
       "      <td>no</td>\n",
       "      <td>2205</td>\n",
       "      <td>no</td>\n",
       "      <td>no</td>\n",
       "      <td>cellular</td>\n",
       "      <td>14</td>\n",
       "      <td>aug</td>\n",
       "      <td>635</td>\n",
       "      <td>2</td>\n",
       "      <td>-1</td>\n",
       "      <td>0</td>\n",
       "      <td>unknown</td>\n",
       "      <td>no</td>\n",
       "    </tr>\n",
       "    <tr>\n",
       "      <td>4</td>\n",
       "      <td>32325</td>\n",
       "      <td>30</td>\n",
       "      <td>blue-collar</td>\n",
       "      <td>single</td>\n",
       "      <td>secondary</td>\n",
       "      <td>no</td>\n",
       "      <td>445</td>\n",
       "      <td>yes</td>\n",
       "      <td>no</td>\n",
       "      <td>cellular</td>\n",
       "      <td>16</td>\n",
       "      <td>apr</td>\n",
       "      <td>218</td>\n",
       "      <td>1</td>\n",
       "      <td>330</td>\n",
       "      <td>2</td>\n",
       "      <td>failure</td>\n",
       "      <td>no</td>\n",
       "    </tr>\n",
       "  </tbody>\n",
       "</table>\n",
       "</div>"
      ],
      "text/plain": [
       "   index  age          job   marital  education default  balance housing loan  \\\n",
       "0  42947   35   management   married   tertiary      no       62      no   no   \n",
       "1  12861   44    housemaid   married    primary      no     -227      no  yes   \n",
       "2  15433   49   management  divorced   tertiary      no      169      no   no   \n",
       "3  21036   34   management    single   tertiary      no     2205      no   no   \n",
       "4  32325   30  blue-collar    single  secondary      no      445     yes   no   \n",
       "\n",
       "    contact  day month  duration  campaign  pdays  previous poutcome    y  \n",
       "0  cellular    8   feb       469         2    185         2  failure  yes  \n",
       "1  cellular    7   jul       153         1     -1         0  unknown   no  \n",
       "2  cellular   18   jul       141         1     -1         0  unknown   no  \n",
       "3  cellular   14   aug       635         2     -1         0  unknown   no  \n",
       "4  cellular   16   apr       218         1    330         2  failure   no  "
      ]
     },
     "metadata": {},
     "execution_count": 58
    }
   ],
   "metadata": {}
  },
  {
   "cell_type": "markdown",
   "source": [
    "## d. Variabel yang akan diuji apa?"
   ],
   "metadata": {}
  },
  {
   "cell_type": "markdown",
   "source": [
    "1. y <br>\r\n",
    "2. campaign"
   ],
   "metadata": {}
  },
  {
   "cell_type": "markdown",
   "source": [
    "## e. Metrics apa yang akan digunakan?"
   ],
   "metadata": {}
  },
  {
   "cell_type": "markdown",
   "source": [
    "Metrik terdistribusi - rata - rata campaign nasabah yang membuka akun dan tidak membuka akun"
   ],
   "metadata": {}
  },
  {
   "cell_type": "markdown",
   "source": [
    "## f. Berapa sample size dan durasi experiment?"
   ],
   "metadata": {}
  },
  {
   "cell_type": "markdown",
   "source": [
    "Tingkat kepercayaan - juga disebut tingkat signifikansi adalah probabilitas bahwa hipotesis nol (eksperimen dan kontrol adalah sama).<br>\r\n",
    "Durasi - Perbulan\r\n",
    "<br>\r\n",
    "Sample Size = 1000"
   ],
   "metadata": {}
  },
  {
   "cell_type": "markdown",
   "source": [
    "## a. Penentuan Hipotesis"
   ],
   "metadata": {}
  },
  {
   "cell_type": "markdown",
   "source": [
    "H0 : rata-rata campaign-yes **sama dengan atau kurang dari** campaign-no <br>\r\n",
    "H1 : rata-rata campaign-yes **lebih dari** campaign-no"
   ],
   "metadata": {}
  },
  {
   "cell_type": "code",
   "execution_count": 61,
   "source": [
    "yes = df[df['y']== 'yes']\r\n",
    "no = df[df['y'] == 'no']"
   ],
   "outputs": [],
   "metadata": {}
  },
  {
   "cell_type": "code",
   "execution_count": 62,
   "source": [
    "yes['campaign'].mean()"
   ],
   "outputs": [
    {
     "output_type": "execute_result",
     "data": {
      "text/plain": [
       "2.1410474569861977"
      ]
     },
     "metadata": {},
     "execution_count": 62
    }
   ],
   "metadata": {}
  },
  {
   "cell_type": "code",
   "execution_count": 63,
   "source": [
    "no['campaign'].mean()"
   ],
   "outputs": [
    {
     "output_type": "execute_result",
     "data": {
      "text/plain": [
       "2.8463503832473322"
      ]
     },
     "metadata": {},
     "execution_count": 63
    }
   ],
   "metadata": {}
  },
  {
   "cell_type": "markdown",
   "source": [
    "## b. Pengujian yang digunakan"
   ],
   "metadata": {}
  },
  {
   "cell_type": "markdown",
   "source": [
    "## TTEST"
   ],
   "metadata": {}
  },
  {
   "cell_type": "code",
   "execution_count": 66,
   "source": [
    "ttest = st.ttest_ind(a = yes['campaign'], b=no['campaign'])\r\n",
    "p_value = ttest.pvalue\r\n",
    "print('P-Value :',p_value)\r\n",
    "if p_value >= 0.05:\r\n",
    "    print('Tidak cukup bukti menyatakan bahwa rata-rata campaign lebih dari non-campaign')\r\n",
    "else:\r\n",
    "    print('Cukup bukti menyatakan (Tolak H0) bahwa rata-rata campaign lebih dari gmv non-campaign')"
   ],
   "outputs": [
    {
     "output_type": "stream",
     "name": "stdout",
     "text": [
      "P-Value : 1.0123473642096297e-54\n",
      "Cukup bukti menyatakan (Tolak H0) bahwa rata-rata campaign lebih dari gmv non-campaign\n"
     ]
    }
   ],
   "metadata": {}
  },
  {
   "cell_type": "markdown",
   "source": [
    "Dari hasil tersebut dapat disimpulkan bahwa banyaknya campaign tidak menentukan atau menjadi faktor penentu utama seorang nasabah membuka akun di bank, terlihat di p value yang lebih dari 0.05 menandakan hipotesis H0 ditolak dan H1 diterima"
   ],
   "metadata": {}
  },
  {
   "cell_type": "code",
   "execution_count": null,
   "source": [],
   "outputs": [],
   "metadata": {}
  }
 ],
 "metadata": {
  "orig_nbformat": 4,
  "language_info": {
   "name": "python",
   "version": "3.7.4",
   "mimetype": "text/x-python",
   "codemirror_mode": {
    "name": "ipython",
    "version": 3
   },
   "pygments_lexer": "ipython3",
   "nbconvert_exporter": "python",
   "file_extension": ".py"
  },
  "kernelspec": {
   "name": "python3",
   "display_name": "Python 3.7.4 64-bit ('base': conda)"
  },
  "interpreter": {
   "hash": "b3ba2566441a7c06988d0923437866b63cedc61552a5af99d1f4fb67d367b25f"
  }
 },
 "nbformat": 4,
 "nbformat_minor": 2
}